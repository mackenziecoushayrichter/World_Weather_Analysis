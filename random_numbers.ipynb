{
 "cells": [
  {
   "cell_type": "code",
   "execution_count": 1,
   "id": "96a7124e",
   "metadata": {},
   "outputs": [],
   "source": [
    "#import the random module\n",
    "import random"
   ]
  },
  {
   "cell_type": "code",
   "execution_count": 2,
   "id": "bde76945",
   "metadata": {},
   "outputs": [
    {
     "data": {
      "text/plain": [
       "20"
      ]
     },
     "execution_count": 2,
     "metadata": {},
     "output_type": "execute_result"
    }
   ],
   "source": [
    "random.randint(-90,90)"
   ]
  },
  {
   "cell_type": "code",
   "execution_count": 3,
   "id": "bf1d4811",
   "metadata": {},
   "outputs": [
    {
     "data": {
      "text/plain": [
       "0.6732498934396624"
      ]
     },
     "execution_count": 3,
     "metadata": {},
     "output_type": "execute_result"
    }
   ],
   "source": [
    "random.random()"
   ]
  },
  {
   "cell_type": "code",
   "execution_count": 4,
   "id": "bb2e3e07",
   "metadata": {},
   "outputs": [
    {
     "data": {
      "text/plain": [
       "70.1700034722171"
      ]
     },
     "execution_count": 4,
     "metadata": {},
     "output_type": "execute_result"
    }
   ],
   "source": [
    "random_number = random.randint(-90,89) + random.random()\n",
    "random_number"
   ]
  },
  {
   "cell_type": "code",
   "execution_count": 5,
   "id": "344bcfaa",
   "metadata": {},
   "outputs": [],
   "source": [
    "x=1\n",
    "latitudes = []\n",
    "while x <11:\n",
    "    random_lat = random.randint(-90,89) + random.random()\n",
    "    latitudes.append(random_lat)\n",
    "    x+=1"
   ]
  },
  {
   "cell_type": "code",
   "execution_count": 6,
   "id": "39b92275",
   "metadata": {},
   "outputs": [
    {
     "data": {
      "text/plain": [
       "[-65.4454167289736,\n",
       " 84.28969270067769,\n",
       " -43.59491624001114,\n",
       " 29.969718293188123,\n",
       " 85.40080587084422,\n",
       " 56.256663089359485,\n",
       " -84.55281830349489,\n",
       " -4.799543236415193,\n",
       " -24.699856506525464,\n",
       " 35.3283318223046]"
      ]
     },
     "execution_count": 6,
     "metadata": {},
     "output_type": "execute_result"
    }
   ],
   "source": [
    "latitudes"
   ]
  },
  {
   "cell_type": "code",
   "execution_count": 7,
   "id": "fadb30df",
   "metadata": {},
   "outputs": [
    {
     "data": {
      "text/plain": [
       "-54"
      ]
     },
     "execution_count": 7,
     "metadata": {},
     "output_type": "execute_result"
    }
   ],
   "source": [
    "random.randrange(-90,90,step=1)"
   ]
  },
  {
   "cell_type": "code",
   "execution_count": 8,
   "id": "8e2dbbb5",
   "metadata": {},
   "outputs": [
    {
     "data": {
      "text/plain": [
       "69"
      ]
     },
     "execution_count": 8,
     "metadata": {},
     "output_type": "execute_result"
    }
   ],
   "source": [
    "random.randrange(-90,90, step =3)"
   ]
  },
  {
   "cell_type": "code",
   "execution_count": 9,
   "id": "e461e26c",
   "metadata": {},
   "outputs": [
    {
     "data": {
      "text/plain": [
       "-74.89957523137488"
      ]
     },
     "execution_count": 9,
     "metadata": {},
     "output_type": "execute_result"
    }
   ],
   "source": [
    "random.uniform(-90,90)"
   ]
  },
  {
   "cell_type": "code",
   "execution_count": 10,
   "id": "0808124f",
   "metadata": {},
   "outputs": [],
   "source": [
    "#import the numpy module\n",
    "import numpy as np"
   ]
  },
  {
   "cell_type": "code",
   "execution_count": 11,
   "id": "23a0ca17",
   "metadata": {},
   "outputs": [
    {
     "data": {
      "text/plain": [
       "array([-63.99390844,  -5.68529689, -30.54621886,  54.25047174,\n",
       "       -42.05613919,  51.65409123,   0.83048521, -46.00178936,\n",
       "        73.16304816, -30.37421537,  32.42872546,  61.52788449,\n",
       "        31.67253936, -27.42430785,   7.16144531, -57.1913208 ,\n",
       "       -34.99641326, -30.52777682, -75.44950943, -79.98509795,\n",
       "       -67.96369751,  42.05182451,  87.82825389,  28.57766429,\n",
       "       -73.10559685,  46.2070431 ,  48.30575107, -77.08573145,\n",
       "       -17.1050137 , -68.73804868,  -3.99418734,  86.13475571,\n",
       "        57.80898055,  39.80810388,   9.05683818, -25.14867795,\n",
       "        13.23889772,  22.39377518, -86.74771584,  84.9012259 ,\n",
       "        87.97833445, -36.41958543,   6.16351697, -46.74825101,\n",
       "        61.67339783,  35.35331159,  58.57637536,  67.29998409,\n",
       "       -56.57702419, -11.70761223])"
      ]
     },
     "execution_count": 11,
     "metadata": {},
     "output_type": "execute_result"
    }
   ],
   "source": [
    "np.random.uniform(-90.000,90.000, size=50)"
   ]
  },
  {
   "cell_type": "code",
   "execution_count": 12,
   "id": "84289a29",
   "metadata": {},
   "outputs": [],
   "source": [
    "#import timeit\n",
    "import timeit"
   ]
  },
  {
   "cell_type": "code",
   "execution_count": 13,
   "id": "d6442a87",
   "metadata": {},
   "outputs": [
    {
     "name": "stdout",
     "output_type": "stream",
     "text": [
      "14.7 µs ± 641 ns per loop (mean ± std. dev. of 7 runs, 100000 loops each)\n"
     ]
    }
   ],
   "source": [
    "%timeit np.random.uniform(-90.000, 90.000, size=1500)"
   ]
  },
  {
   "cell_type": "code",
   "execution_count": 14,
   "id": "e717ebd6",
   "metadata": {},
   "outputs": [
    {
     "name": "stdout",
     "output_type": "stream",
     "text": [
      "1.37 ms ± 17.4 µs per loop (mean ± std. dev. of 7 runs, 1000 loops each)\n"
     ]
    }
   ],
   "source": [
    "def latitudes(size):\n",
    "    latitudes = []\n",
    "    x=0\n",
    "    while x < (size):\n",
    "        random_lat = random.randint(-90,90) + random.random()\n",
    "        latitudes.append(random_lat)\n",
    "        x +=1\n",
    "    return latitudes\n",
    "\n",
    "#call the function with 1500\n",
    "%timeit latitudes(1500)\n"
   ]
  },
  {
   "cell_type": "code",
   "execution_count": 15,
   "id": "613d55ec",
   "metadata": {},
   "outputs": [],
   "source": [
    "#import linear regression from the SciPy stats module\n",
    "from scipy.stats import linregress"
   ]
  },
  {
   "cell_type": "code",
   "execution_count": 16,
   "id": "0cfecd2f",
   "metadata": {},
   "outputs": [],
   "source": [
    "# Create an equal number of latitudes and temperatures.\n",
    "lats = [42.5, 43.9, 8.1, 36.8, 79.9, 69.1, 25.7, 15.3, 12.7, 64.5]\n",
    "temps = [80.5, 75.3, 90.9, 90.0, 40.4, 62.3, 85.4, 79.6, 72.5, 72.0]"
   ]
  },
  {
   "cell_type": "code",
   "execution_count": 21,
   "id": "7fc36c4b",
   "metadata": {},
   "outputs": [
    {
     "name": "stdout",
     "output_type": "stream",
     "text": [
      "y=-0.45x+92.94\n",
      "The p-value is 0.011\n"
     ]
    }
   ],
   "source": [
    "#perfrom linear regression\n",
    "(slope, intercept, r_value, p_value, std_err) = linregress(lats, temps)\n",
    "\n",
    "#get the equation of the line\n",
    "line_eq = \"y=\" + str(round(slope,2)) + \"x+\" + str(round(intercept, 2))\n",
    "\n",
    "print(line_eq)\n",
    "print(f'The p-value is {p_value:.3f}')"
   ]
  },
  {
   "cell_type": "code",
   "execution_count": 22,
   "id": "c88bc4e8",
   "metadata": {},
   "outputs": [],
   "source": [
    "#calculate the regression line y-values from the slope and intercept \n",
    "regress_values = [(lat*slope + intercept) for lat in lats]"
   ]
  },
  {
   "cell_type": "code",
   "execution_count": 25,
   "id": "d47040fc",
   "metadata": {},
   "outputs": [
    {
     "data": {
      "image/png": "[encoded data removed]",
      "text/plain": [
       "<Figure size 432x288 with 1 Axes>"
      ]
     },
     "metadata": {
      "needs_background": "light"
     },
     "output_type": "display_data"
    }
   ],
   "source": [
    "#import matplotlib\n",
    "import matplotlib.pyplot as plt\n",
    "\n",
    "#create a scatterplot of the x and y values\n",
    "plt.scatter(lats, temps)\n",
    "\n",
    "#plot the regression line with the x values and the y coordinates based on the intercept and slope\n",
    "plt.plot(lats, regress_values, \"r\")\n",
    "\n",
    "#annotate the text for the line equation and its coordinates\n",
    "plt.annotate(line_eq, (10,40), fontsize=15, color='red')\n",
    "plt.xlabel('Latitude')\n",
    "plt.ylabel('Temp')\n",
    "plt.show()"
   ]
  },
  {
   "cell_type": "code",
   "execution_count": null,
   "id": "d3a23029",
   "metadata": {},
   "outputs": [],
   "source": []
  }
 ],
 "metadata": {
  "kernelspec": {
   "display_name": "PythonData",
   "language": "python",
   "name": "pythondata"
  },
  "language_info": {
   "codemirror_mode": {
    "name": "ipython",
    "version": 3
   },
   "file_extension": ".py",
   "mimetype": "text/x-python",
   "name": "python",
   "nbconvert_exporter": "python",
   "pygments_lexer": "ipython3",
   "version": "3.8.8"
  }
 },
 "nbformat": 4,
 "nbformat_minor": 5
}
